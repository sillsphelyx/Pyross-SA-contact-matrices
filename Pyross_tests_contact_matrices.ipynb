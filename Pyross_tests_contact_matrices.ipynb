{
 "cells": [
  {
   "cell_type": "code",
   "execution_count": 1,
   "metadata": {
    "collapsed": true
   },
   "outputs": [],
   "source": [
    "%%capture\n",
    "## compile PyRoss for this notebook\n",
    "import os\n",
    "owd = os.getcwd()\n",
    "os.chdir('../../')\n",
    "%run setup.py install\n",
    "os.chdir(owd)"
   ]
  },
  {
   "cell_type": "code",
   "execution_count": 2,
   "metadata": {
    "collapsed": true
   },
   "outputs": [],
   "source": [
    "import numpy as np\n",
    "import pyross"
   ]
  },
  {
   "cell_type": "code",
   "execution_count": 3,
   "metadata": {
    "collapsed": true
   },
   "outputs": [],
   "source": [
    "#Contact matrices for South Africa\n",
    "CH = np.genfromtxt('CH.csv',delimiter = ',',skip_header = 0)\n",
    "CW = np.genfromtxt('CW.csv',delimiter = ',',skip_header = 0)\n",
    "CS = np.genfromtxt('CS.csv',delimiter = ',',skip_header = 0)\n",
    "CO = np.genfromtxt('CO.csv',delimiter = ',',skip_header = 0)"
   ]
  },
  {
   "cell_type": "code",
   "execution_count": 3,
   "metadata": {
    "collapsed": true
   },
   "outputs": [],
   "source": [
    "# Get individual contact matrices for countries incooparated in pyross files\n",
    "# E.g China, Denmark, Uk, \n",
    "#CH, CW, CS, CO = pyross.contactMatrix.UK()"
   ]
  },
  {
   "cell_type": "code",
   "execution_count": 4,
   "metadata": {
    "collapsed": false
   },
   "outputs": [
    {
     "data": {
      "text/plain": [
       "(16, 16)"
      ]
     },
     "execution_count": 4,
     "metadata": {},
     "output_type": "execute_result"
    }
   ],
   "source": [
    "#CH.shape"
   ]
  },
  {
   "cell_type": "code",
   "execution_count": 7,
   "metadata": {
    "collapsed": true
   },
   "outputs": [],
   "source": [
    "# Generate class with contact matrix for SIR model with South Africa contact structure\n",
    "generator = pyross.contactMatrix.ContactMatrixFunction(CH, CW, CS, CO)"
   ]
  },
  {
   "cell_type": "code",
   "execution_count": 8,
   "metadata": {
    "collapsed": true
   },
   "outputs": [],
   "source": [
    "# get constant contact matrix function (this is plug-and-play for model.simulate)\n",
    "C = generator.constant_contactMatrix()"
   ]
  },
  {
   "cell_type": "code",
   "execution_count": 9,
   "metadata": {
    "collapsed": false
   },
   "outputs": [
    {
     "data": {
      "text/plain": [
       "True"
      ]
     },
     "execution_count": 9,
     "metadata": {},
     "output_type": "execute_result"
    }
   ],
   "source": [
    "# compare: Does the constant contact matrix function yield the sum of the individual contact matrices?\n",
    "(CH + CW + CS + CO == C(123)).all()"
   ]
  },
  {
   "cell_type": "markdown",
   "metadata": {},
   "source": [
    "## Create matrix for temporal intervention"
   ]
  },
  {
   "cell_type": "code",
   "execution_count": 10,
   "metadata": {
    "collapsed": true
   },
   "outputs": [],
   "source": [
    "times= [1, 2, 3] # temporal boundaries between different contact-behaviour\n",
    "# prefactors for CW, CS, CO:\n",
    "interventions = [[0.5,0.2,0.3], # before first time\n",
    "                 [0.2,0.1,0.1], # between first and second time\n",
    "                 [0.4,0.5,0.2], # between second and third time\n",
    "                  [0.7,0.1,0.1]] # for times larger than third time\n",
    "\n",
    "# generate corresponding contact matrix function\n",
    "C = generator.interventions_temporal(times=times,interventions=interventions)"
   ]
  },
  {
   "cell_type": "code",
   "execution_count": 11,
   "metadata": {
    "collapsed": false
   },
   "outputs": [
    {
     "name": "stdout",
     "output_type": "stream",
     "text": [
      "True\n",
      "True\n",
      "True\n",
      "True\n",
      "True\n"
     ]
    }
   ],
   "source": [
    "# Check: Does the contact matrix function give what it should?\n",
    "\n",
    "# times at which to evaluate contact matrix function\n",
    "test_times = [-0.1, 0.5, 1.1, 2.9, 5]\n",
    "# for each time, we here enter the corresponding row from the \"interventions\" matrix by hand\n",
    "test_indices = [0, 0, 1, 2, 3]\n",
    "\n",
    "\n",
    "for i,t in enumerate(test_times):\n",
    "    j = test_indices[i]\n",
    "    print( (CH + interventions[j][0]*CW + interventions[j][1]*CS + interventions[j][2]*CO == C(t)).all() )"
   ]
  },
  {
   "cell_type": "markdown",
   "metadata": {},
   "source": [
    "## Create matrix for population-threshold driven intervention"
   ]
  },
  {
   "cell_type": "code",
   "execution_count": 9,
   "metadata": {
    "collapsed": true
   },
   "outputs": [],
   "source": [
    "# For the SIR model, we have 3*M population numbers (S,Ia,Is)\n",
    "# We now consider M = 1\n",
    "# (Possible extension: Include class R)\n",
    "\n",
    "# thresholds for switching\n",
    "thresholds = np.array([ [0,20,0],\n",
    "                        [0,40,0],\n",
    "                         [0, 100, 0]])\n",
    "# interventions\n",
    "interventions = [[0.5,0.2,0.3], # before first time\n",
    "                 [0.2,0.1,0.1], # between first and second time\n",
    "                 [0.4,0.5,0.2], # between second and third time\n",
    "                  [0.7,0.1,0.1]] # for times larger than third time\n",
    "\n",
    "# generate contact matrix function\n",
    "C = generator.interventions_threshold(thresholds=thresholds,interventions=interventions)\n",
    "\n",
    "# Note that this contact matrix function now takes 4 arguments!\n",
    "# C == C(t, S, Ia, Is)"
   ]
  },
  {
   "cell_type": "code",
   "execution_count": 10,
   "metadata": {
    "collapsed": true
   },
   "outputs": [],
   "source": [
    "# Check: Does the contact matrix function give what it should?\n",
    "\n",
    "test_populations = [ [ 10,10,10] ,\n",
    "                      [0, 10, 10],\n",
    "                       [10, 50,100],\n",
    "                      [100,200,0]]\n",
    "\n",
    "# The function is written so that for a \"population vector\" state = (S,Ia,Is),\n",
    "# the intervention with the largest index i such that\n",
    "# state[j] >= thresholds[index,j] for all j\n",
    "# is chosen. \n",
    "# Put differently, we look for the first row (from above) in the matrix \"thresholds\" such that\n",
    "# all population numbers exceed the threshold.\n",
    "\n",
    "# for each time, we here enter the corresponding row from the \"interventions\" matrix by hand\n",
    "test_indices = [0, 0, 2, 3]"
   ]
  }
 ],
 "metadata": {
  "kernelspec": {
   "display_name": "py3tst",
   "language": "python",
   "name": "py3tst"
  },
  "language_info": {
   "codemirror_mode": {
    "name": "ipython",
    "version": 3
   },
   "file_extension": ".py",
   "mimetype": "text/x-python",
   "name": "python",
   "nbconvert_exporter": "python",
   "pygments_lexer": "ipython3",
   "version": "3.6.8"
  }
 },
 "nbformat": 4,
 "nbformat_minor": 2
}
